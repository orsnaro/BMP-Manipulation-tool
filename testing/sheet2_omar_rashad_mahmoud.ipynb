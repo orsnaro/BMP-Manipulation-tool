{
 "cells": [
  {
   "cell_type": "markdown",
   "metadata": {},
   "source": [
    "# <span style = \"color:red\" > <center>  Sheet 2 - solution - OMAR RASHAD MAHMOUD</center></span>"
   ]
  },
  {
   "cell_type": "code",
   "execution_count": 31,
   "metadata": {},
   "outputs": [
    {
     "data": {
      "text/plain": [
       "-1"
      ]
     },
     "execution_count": 31,
     "metadata": {},
     "output_type": "execute_result"
    }
   ],
   "source": [
    "#task1\n",
    "\n",
    "import cv2; import numpy as np \n",
    "#brg\n",
    "colored = cv2.imread(\"colored.jpg\",cv2.IMREAD_COLOR)\n",
    "cv2.imshow(\"task1-1\", colored)\n",
    "# cv2.destroyWindow(\"task1-1\")\n",
    "#bgr\n",
    "blue = colored.copy()\n",
    "blue[:,:,1] = 0\n",
    "blue[:,:,2] = 0\n",
    "cv2.imshow(\"task1-2\", blue)\n",
    "\n",
    "\n",
    "green = colored.copy()\n",
    "green [:, : , 0] = 0\n",
    "green [:, : , 2] = 0\n",
    "cv2.imshow(\"task1-3\", green)\n",
    "\n",
    "red = colored.copy()\n",
    "red [:, : , 0] = 0\n",
    "red [:, : , 1] = 0\n",
    "cv2.imshow(\"task1-4\", red)\n",
    "cv2.waitKey(0)\n"
   ]
  },
  {
   "cell_type": "code",
   "execution_count": 32,
   "metadata": {},
   "outputs": [
    {
     "data": {
      "text/plain": [
       "-1"
      ]
     },
     "execution_count": 32,
     "metadata": {},
     "output_type": "execute_result"
    }
   ],
   "source": [
    "#task2\n",
    "import cv2 ; import numpy as np   \n",
    "\n",
    "arr1 = np.zeros((256,256), dtype = np.uint8)\n",
    "\n",
    "arr1[:127, :127]= 255\n",
    "arr1[128:255, 128:255]= 255\n",
    "\n",
    "cv2.imshow(\"Task2\",arr1)\n",
    "cv2.waitKey(0)\n"
   ]
  },
  {
   "cell_type": "code",
   "execution_count": 33,
   "metadata": {},
   "outputs": [
    {
     "data": {
      "text/plain": [
       "-1"
      ]
     },
     "execution_count": 33,
     "metadata": {},
     "output_type": "execute_result"
    }
   ],
   "source": [
    "#task3\n",
    "import cv2 ; import numpy as np   \n",
    "arr1 = np.zeros((256,256), dtype = np.uint8)\n",
    "\n",
    "for i in range(256) :\n",
    "    arr1[i] = 255 - i\n",
    "\n",
    "cv2.imshow(\"Task3\",arr1)\n",
    "cv2.waitKey(0)"
   ]
  },
  {
   "cell_type": "code",
   "execution_count": 34,
   "metadata": {},
   "outputs": [
    {
     "data": {
      "text/plain": [
       "-1"
      ]
     },
     "execution_count": 34,
     "metadata": {},
     "output_type": "execute_result"
    }
   ],
   "source": [
    "#task4\n",
    "import cv2 ; import numpy as np   \n",
    "before = cv2.imread(\"sheet2.png\" ,0 ) \n",
    "\n",
    "\n",
    "after = np.zeros((before.shape[0],before.shape[1]) , dtype= np.uint8)\n",
    "\n",
    "for i in range(650) :\n",
    "    for j in range(650) :\n",
    "        after [649 - i,649 - j] =  before[ i , j ]\n",
    "\n",
    "cv2.imshow(\"task4\", after) \n",
    "cv2.waitKey(0)\n",
    "\n",
    "\n"
   ]
  },
  {
   "cell_type": "code",
   "execution_count": 37,
   "metadata": {},
   "outputs": [
    {
     "data": {
      "text/plain": [
       "27"
      ]
     },
     "execution_count": 37,
     "metadata": {},
     "output_type": "execute_result"
    },
    {
     "ename": "",
     "evalue": "",
     "output_type": "error",
     "traceback": [
      "\u001b[1;31mThe Kernel crashed while executing code in the the current cell or a previous cell. Please review the code in the cell(s) to identify a possible cause of the failure. Click <a href='https://aka.ms/vscodeJupyterKernelCrash'>here</a> for more info. View Jupyter <a href='command:jupyter.viewOutput'>log</a> for further details."
     ]
    }
   ],
   "source": [
    "# task 5\n",
    "import cv2\n",
    "import numpy as np\n",
    "before = cv2.imread(\"sheet2.png\", 0)\n",
    "after = np.zeros((before.shape[0], before.shape[1]), dtype=np.uint8)\n",
    "\n",
    "for i in range(0, 324):# swap 2 parts on main diagonal\n",
    "    for j in range(0, 324):\n",
    "        after[324 + i, 324 + j] = before[i, j]\n",
    "\n",
    "for i in range(324, 650):\n",
    "    for j in range(324, 650):\n",
    "        after[-324 + i, -324 + j] = before[i, j]\n",
    "\n",
    "for i in range(0, 324):#swap 2 parts on  auxiliary diagonal\n",
    "    for j in range(324, 650):\n",
    "        after[324 + i, j - 324 ] = before[i, j]\n",
    "\n",
    "for i in range(324, 650):\n",
    "    for j in range(0, 324):\n",
    "        after[i - 324, j + 324 ] = before[i, j]\n",
    "\n",
    "cv2.imshow(\"task 5 \", after)\n",
    "cv2.waitKey(0)\n"
   ]
  }
 ],
 "metadata": {
  "kernelspec": {
   "display_name": "Python 3.10.8 64-bit (microsoft store)",
   "language": "python",
   "name": "python3"
  },
  "language_info": {
   "codemirror_mode": {
    "name": "ipython",
    "version": 3
   },
   "file_extension": ".py",
   "mimetype": "text/x-python",
   "name": "python",
   "nbconvert_exporter": "python",
   "pygments_lexer": "ipython3",
   "version": "3.10.8"
  },
  "orig_nbformat": 4,
  "vscode": {
   "interpreter": {
    "hash": "e2c4c84b7cbfc1f2f53a68dcfadacf80dd1138793774f9f90876db06a367aefd"
   }
  }
 },
 "nbformat": 4,
 "nbformat_minor": 2
}
